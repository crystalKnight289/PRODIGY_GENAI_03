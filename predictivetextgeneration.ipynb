{
 "cells": [
  {
   "cell_type": "code",
   "execution_count": 1,
   "metadata": {
    "scrolled": true
   },
   "outputs": [],
   "source": [
    "text_a = open(\"1342-0.txt\").read()\n",
    "text_b = open(\"84-0.txt\").read()"
   ]
  },
  {
   "cell_type": "code",
   "execution_count": 2,
   "metadata": {
    "scrolled": true
   },
   "outputs": [
    {
     "name": "stdout",
     "output_type": "stream",
     "text": [
      "The Project Gutenberg EBook of Pride and Prejudice, by Jane Austen\n",
      "\n",
      "This eBook is for the use of anyone anywhere at no cost and with\n",
      "almost no restrictions whatsoever.  You may copy it, give it away \n"
     ]
    }
   ],
   "source": [
    "print(text_a[:200])"
   ]
  },
  {
   "cell_type": "code",
   "execution_count": 3,
   "metadata": {
    "scrolled": true
   },
   "outputs": [
    {
     "data": {
      "text/plain": [
       "['t',\n",
       " 'd',\n",
       " 'i',\n",
       " 'h',\n",
       " ' ',\n",
       " 's',\n",
       " 's',\n",
       " 'r',\n",
       " 'e',\n",
       " 'r',\n",
       " 'i',\n",
       " 'r',\n",
       " 'd',\n",
       " 's',\n",
       " 'g',\n",
       " 'v',\n",
       " 'u',\n",
       " 'd',\n",
       " 'i',\n",
       " 't']"
      ]
     },
     "execution_count": 3,
     "metadata": {},
     "output_type": "execute_result"
    }
   ],
   "source": [
    "import random\n",
    "random.sample(text_b, 20)"
   ]
  },
  {
   "cell_type": "code",
   "execution_count": 4,
   "metadata": {
    "scrolled": true
   },
   "outputs": [],
   "source": [
    "a_words = text_a.split()\n",
    "b_words = text_b.split()"
   ]
  },
  {
   "cell_type": "code",
   "execution_count": 5,
   "metadata": {
    "scrolled": true
   },
   "outputs": [
    {
     "data": {
      "text/plain": [
       "['listened',\n",
       " 'a',\n",
       " 'see',\n",
       " 'absence',\n",
       " 'listening',\n",
       " 'she',\n",
       " 'as',\n",
       " 'exhibit.”',\n",
       " 'Fitzwilliam,',\n",
       " 'state']"
      ]
     },
     "execution_count": 5,
     "metadata": {},
     "output_type": "execute_result"
    }
   ],
   "source": [
    "random.sample(a_words, 10)"
   ]
  },
  {
   "cell_type": "code",
   "execution_count": 6,
   "metadata": {
    "scrolled": true
   },
   "outputs": [
    {
     "data": {
      "text/plain": [
       "['saw',\n",
       " 'shepherd.',\n",
       " 'only',\n",
       " 'rustic,',\n",
       " 'being',\n",
       " 'resolved',\n",
       " 'near',\n",
       " 'would',\n",
       " 'feel',\n",
       " 'with']"
      ]
     },
     "execution_count": 6,
     "metadata": {},
     "output_type": "execute_result"
    }
   ],
   "source": [
    "random.sample(b_words, 10)"
   ]
  },
  {
   "cell_type": "code",
   "execution_count": 7,
   "metadata": {
    "scrolled": true
   },
   "outputs": [
    {
     "data": {
      "text/plain": [
       "[(' ', 113941),\n",
       " ('e', 70344),\n",
       " ('t', 47283),\n",
       " ('a', 42156),\n",
       " ('o', 41138),\n",
       " ('n', 38430),\n",
       " ('i', 36273),\n",
       " ('h', 33883),\n",
       " ('r', 33293),\n",
       " ('s', 33292),\n",
       " ('d', 22247),\n",
       " ('l', 21282)]"
      ]
     },
     "execution_count": 7,
     "metadata": {},
     "output_type": "execute_result"
    }
   ],
   "source": [
    "from collections import Counter\n",
    "Counter(text_a).most_common(12)"
   ]
  },
  {
   "cell_type": "code",
   "execution_count": 8,
   "metadata": {
    "scrolled": true
   },
   "outputs": [
    {
     "data": {
      "text/plain": [
       "[('the', 4205),\n",
       " ('to', 4121),\n",
       " ('of', 3662),\n",
       " ('and', 3309),\n",
       " ('a', 1945),\n",
       " ('her', 1858),\n",
       " ('in', 1813),\n",
       " ('was', 1795),\n",
       " ('I', 1740),\n",
       " ('that', 1419),\n",
       " ('not', 1356),\n",
       " ('she', 1306)]"
      ]
     },
     "execution_count": 8,
     "metadata": {},
     "output_type": "execute_result"
    }
   ],
   "source": [
    "Counter(a_words).most_common(12)"
   ]
  },
  {
   "cell_type": "markdown",
   "metadata": {},
   "source": [
    "Compare these to the most common words in text B:"
   ]
  },
  {
   "cell_type": "code",
   "execution_count": 9,
   "metadata": {
    "scrolled": true
   },
   "outputs": [
    {
     "data": {
      "text/plain": [
       "[('the', 4056),\n",
       " ('and', 2971),\n",
       " ('of', 2741),\n",
       " ('I', 2719),\n",
       " ('to', 2142),\n",
       " ('my', 1631),\n",
       " ('a', 1394),\n",
       " ('in', 1125),\n",
       " ('was', 993),\n",
       " ('that', 987),\n",
       " ('with', 700),\n",
       " ('had', 679)]"
      ]
     },
     "execution_count": 9,
     "metadata": {},
     "output_type": "execute_result"
    }
   ],
   "source": [
    "Counter(b_words).most_common(12)"
   ]
  },
  {
   "cell_type": "code",
   "execution_count": 10,
   "metadata": {
    "scrolled": true
   },
   "outputs": [
    {
     "name": "stdout",
     "output_type": "stream",
     "text": [
      "Requirement already satisfied: markovify in /Users/allison/opt/miniconda3/envs/predictive-text-and-text-generation/lib/python3.9/site-packages (0.8.3)\r\n",
      "Requirement already satisfied: unidecode in /Users/allison/opt/miniconda3/envs/predictive-text-and-text-generation/lib/python3.9/site-packages (from markovify) (1.1.1)\r\n"
     ]
    }
   ],
   "source": [
    "import sys\n",
    "!{sys.executable} -m pip install markovify"
   ]
  },
  {
   "cell_type": "code",
   "execution_count": 11,
   "metadata": {
    "scrolled": true
   },
   "outputs": [],
   "source": [
    "import markovify"
   ]
  },
  {
   "cell_type": "code",
   "execution_count": 12,
   "metadata": {
    "scrolled": true
   },
   "outputs": [],
   "source": [
    "generator_a = markovify.Text(text_a)"
   ]
  },
  {
   "cell_type": "code",
   "execution_count": 13,
   "metadata": {
    "scrolled": true
   },
   "outputs": [
    {
     "name": "stdout",
     "output_type": "stream",
     "text": [
      "“I want to see his sister; and, oh! how ardently did she say?”\n"
     ]
    }
   ],
   "source": [
    "print(generator_a.make_sentence())"
   ]
  },
  {
   "cell_type": "code",
   "execution_count": 14,
   "metadata": {
    "scrolled": true
   },
   "outputs": [
    {
     "name": "stdout",
     "output_type": "stream",
     "text": [
      "As long as possible.\n"
     ]
    }
   ],
   "source": [
    "print(generator_a.make_short_sentence(50))"
   ]
  },
  {
   "cell_type": "code",
   "execution_count": 15,
   "metadata": {
    "scrolled": true
   },
   "outputs": [
    {
     "name": "stdout",
     "output_type": "stream",
     "text": [
      "Elizabeth was forced to rejoice.\n"
     ]
    }
   ],
   "source": [
    "print(generator_a.make_short_sentence(40, tries=100))"
   ]
  },
  {
   "cell_type": "code",
   "execution_count": 16,
   "metadata": {
    "scrolled": true
   },
   "outputs": [
    {
     "name": "stdout",
     "output_type": "stream",
     "text": [
      "Mrs. Bennet, “that is rather singular.”\n"
     ]
    }
   ],
   "source": [
    "print(generator_a.make_short_sentence(40, test_output=False))"
   ]
  },
  {
   "cell_type": "code",
   "execution_count": 17,
   "metadata": {
    "scrolled": true
   },
   "outputs": [],
   "source": [
    "gen_a_1 = markovify.Text(text_a, state_size=1)\n",
    "gen_a_4 = markovify.Text(text_a, state_size=4)"
   ]
  },
  {
   "cell_type": "code",
   "execution_count": 18,
   "metadata": {
    "scrolled": true
   },
   "outputs": [
    {
     "name": "stdout",
     "output_type": "stream",
     "text": [
      "order 1\n",
      "“_My_ overhearings were miserable.\n",
      "\n",
      "order 4\n",
      "As they walked across the hall towards the river, Elizabeth turned back to look again; her uncle and aunt had already lost three days of happiness, and immediately wrote as follows: “I would have thanked you before, my dear aunt, as I ought to have done, for your long, kind, satisfactory, detail of particulars; but to say the truth, I was too cross to write.\n"
     ]
    }
   ],
   "source": [
    "print(\"order 1\")\n",
    "print(gen_a_1.make_sentence(test_output=False))\n",
    "print()\n",
    "print(\"order 4\")\n",
    "print(gen_a_4.make_sentence(test_output=False))"
   ]
  },
  {
   "cell_type": "code",
   "execution_count": 19,
   "metadata": {
    "scrolled": true
   },
   "outputs": [],
   "source": [
    "class SentencesByChar(markovify.Text):\n",
    "    def word_split(self, sentence):\n",
    "        return list(sentence)\n",
    "    def word_join(self, words):\n",
    "        return \"\".join(words)"
   ]
  },
  {
   "cell_type": "code",
   "execution_count": 20,
   "metadata": {
    "scrolled": true
   },
   "outputs": [],
   "source": [
    "con_model = SentencesByChar(\"condescendences\", state_size=2)"
   ]
  },
  {
   "cell_type": "code",
   "execution_count": 22,
   "metadata": {
    "scrolled": true
   },
   "outputs": [
    {
     "data": {
      "text/plain": [
       "'condescendescences'"
      ]
     },
     "execution_count": 22,
     "metadata": {},
     "output_type": "execute_result"
    }
   ],
   "source": [
    "con_model.make_sentence()"
   ]
  },
  {
   "cell_type": "code",
   "execution_count": 23,
   "metadata": {
    "scrolled": true
   },
   "outputs": [],
   "source": [
    "gen_a_char = SentencesByChar(text_a, state_size=7)"
   ]
  },
  {
   "cell_type": "code",
   "execution_count": 24,
   "metadata": {
    "scrolled": false
   },
   "outputs": [
    {
     "name": "stdout",
     "output_type": "stream",
     "text": [
      "As I must acknowledged, however, they can get.\n"
     ]
    }
   ],
   "source": [
    "print(gen_a_char.make_sentence(test_output=False).replace(\"\\n\", \" \"))"
   ]
  },
  {
   "cell_type": "code",
   "execution_count": 25,
   "metadata": {
    "scrolled": true
   },
   "outputs": [],
   "source": [
    "generator_a = markovify.Text(text_a)\n",
    "generator_b = markovify.Text(text_b)\n",
    "combo = markovify.combine([generator_a, generator_b], [0.5, 0.5])"
   ]
  },
  {
   "cell_type": "code",
   "execution_count": 27,
   "metadata": {
    "scrolled": true
   },
   "outputs": [
    {
     "name": "stdout",
     "output_type": "stream",
     "text": [
      "We all know that his religion and taught to look on the subject, but that the arguments with which I feared to meet her again.\n"
     ]
    }
   ],
   "source": [
    "print(combo.make_sentence())"
   ]
  },
  {
   "cell_type": "code",
   "execution_count": null,
   "metadata": {
    "scrolled": true
   },
   "outputs": [],
   "source": [
    "\n",
    "level = \"char\"\n",
    "order = 7\n",
    "output_n = 14\n",
    "weights = [0.5, 0.5]\n",
    "length_limit = 280"
   ]
  },
  {
   "cell_type": "code",
   "execution_count": 29,
   "metadata": {
    "scrolled": true
   },
   "outputs": [
    {
     "name": "stdout",
     "output_type": "stream",
     "text": [
      "He was really instructed and repeatedly turned to Charlotte's first began.\n",
      "\n",
      "My ancestors had manifested that would yet had been brought to provoke Darcy should think it a fainted.\n",
      "\n",
      "Women fainted.\n",
      "\n",
      "The completed; and its extreme profundity, until I almost as far enough to hold this explaining.\n",
      "\n",
      "“So much mistaken in.\n",
      "\n",
      "Your tempered, miserable elopement with extremest agitation for many years after breakfast a few stars, it will be in this likely to have them before the dead at my first shock of procure.\n",
      "\n",
      "A military being perpetual fretting between the occasion requiring after _that_, I am a married, but a conversation with almost to London.\n",
      "\n",
      "“I do not give us a ball.\n",
      "\n",
      "In vain did Elizabeth ventured on me.”\n",
      "\n",
      "In a few grey hairs covered them in the lane, who married.\n",
      "\n",
      "Three years old.\n",
      "\n",
      "“What a persuade him to the probably been soon to what promises fairly; and the church.\n",
      "\n",
      "They soon cease to return Mr. Bingley's continued:  “Lizzy, let me be at home, therefore, to admire enough to endure; when a selfish pursuit?\n",
      "\n",
      "She could reflections, all out of its propositions of my truth of its usual querulous serene constructed her eyes.\n",
      "\n"
     ]
    }
   ],
   "source": [
    "model_cls = markovify.Text if level == \"word\" else SentencesByChar\n",
    "gen_a = model_cls(text_a, state_size=order)\n",
    "gen_b = model_cls(text_b, state_size=order)\n",
    "gen_combo = markovify.combine([gen_a, gen_b], weights)\n",
    "for i in range(output_n):\n",
    "    out = gen_combo.make_short_sentence(length_limit, test_output=False)\n",
    "    out = out.replace(\"\\n\", \" \")\n",
    "    print(out)\n",
    "    print()"
   ]
  },
  {
   "cell_type": "code",
   "execution_count": 41,
   "metadata": {},
   "outputs": [],
   "source": [
    "sonnets_text = open(\"sonnets.txt\").read()\n",
    "sonnets_model = markovify.NewlineText(sonnets_text, state_size=1)"
   ]
  },
  {
   "cell_type": "code",
   "execution_count": 42,
   "metadata": {},
   "outputs": [
    {
     "data": {
      "text/plain": [
       "\"For thy light's flame to make time's waste:\""
      ]
     },
     "execution_count": 42,
     "metadata": {},
     "output_type": "execute_result"
    }
   ],
   "source": [
    "sonnets_model.make_sentence()"
   ]
  },
  {
   "cell_type": "code",
   "execution_count": 44,
   "metadata": {},
   "outputs": [
    {
     "name": "stdout",
     "output_type": "stream",
     "text": [
      "Thy pity like a face?\n",
      "Or bends with all those.\n",
      "Although thou art forced to thee, when he may not so of self-doing crime.\n",
      "Could make you see aright?\n",
      "For thee, as thou wilt look,\n",
      "And therefore love, when first my verse alone kingdoms of self-doing crime.\n",
      "Save breed, to say you a league is she might the gaudy spring,\n",
      "The fairest creatures broke away,\n",
      "Oaths of yours must strive\n",
      "Therefore I fear,\n",
      "Deserves the subject that thy years told:\n",
      "Then happy me! but yet, like a seeting bath, which methinks I should example where I am to my love, that sorrow, which gives thee with winter hath taught it thy beauty herself is so long,\n",
      "I better in thee to be forgot,\n",
      "To give back again is took,\n"
     ]
    }
   ],
   "source": [
    "for i in range(14):\n",
    "    print(sonnets_model.make_sentence())"
   ]
  },
  {
   "cell_type": "code",
   "execution_count": 45,
   "metadata": {},
   "outputs": [],
   "source": [
    "class LinesByChar(markovify.NewlineText):\n",
    "    def word_split(self, sentence):\n",
    "        return list(sentence)\n",
    "    def word_join(self, words):\n",
    "        return \"\".join(words)"
   ]
  },
  {
   "cell_type": "code",
   "execution_count": 46,
   "metadata": {},
   "outputs": [],
   "source": [
    "sonnets_char_model = LinesByChar(sonnets_text, state_size=4)"
   ]
  },
  {
   "cell_type": "code",
   "execution_count": 51,
   "metadata": {},
   "outputs": [
    {
     "name": "stdout",
     "output_type": "stream",
     "text": [
      "One of hatred when in the be so blunt back nights in her proceeds:\n",
      "And from thy fair, and see:\n",
      "And faint of and the voice thy swear is best once with mask'd the deathese powerfumes invention, like a false with from her repair,\n",
      "Which hall the night,\n",
      "The leaven,\n",
      "For take a hours, by title morn\n",
      "The worth thee, form death desire is black lines thy deeds;\n",
      "And all upon their riot ease child me not confound age's mine eye away,\n",
      "My her.\n",
      "Since canopy disgrace image infect.\n",
      "Which now unfair witherein I do shall reness, where bore to temperfect thou away, year, when of a world's flatter stain,\n",
      "It is pleast,\n",
      "Lo! in their breat true my mother plead where fresh, who art compounds,\n",
      "Doubting lack of bloody tyrannot action but drown vision laughts, are of your critied be.\n"
     ]
    }
   ],
   "source": [
    "for i in range(14):\n",
    "    print(sonnets_char_model.make_sentence())"
   ]
  },
  {
   "cell_type": "markdown",
   "metadata": {},
   "source": [
    "Then load the JSON file and grab just the list of words naming moods:"
   ]
  },
  {
   "cell_type": "code",
   "execution_count": 52,
   "metadata": {
    "scrolled": true
   },
   "outputs": [],
   "source": [
    "import json\n",
    "mood_data = json.loads(open(\"./moods.json\").read())\n",
    "moods = mood_data['moods']"
   ]
  },
  {
   "cell_type": "code",
   "execution_count": 53,
   "metadata": {},
   "outputs": [],
   "source": [
    "moods_text = \"\\n\".join(moods)"
   ]
  },
  {
   "cell_type": "code",
   "execution_count": 56,
   "metadata": {},
   "outputs": [],
   "source": [
    "moods_char_model = LinesByChar(moods_text, state_size=3)"
   ]
  },
  {
   "cell_type": "code",
   "execution_count": 57,
   "metadata": {},
   "outputs": [
    {
     "name": "stdout",
     "output_type": "stream",
     "text": [
      "cowarlessive\n",
      "toughted\n",
      "lyricapative\n",
      "convictorted\n",
      "embarratived\n",
      "teasane\n",
      "feistative\n",
      "powerloaded\n",
      "bothetic\n",
      "rejuvenaccepted\n",
      "teassioned\n",
      "innovatired\n",
      "chieved\n",
      "alievoless\n",
      "incomperational\n",
      "greterpressived\n",
      "imped\n",
      "soreborn\n",
      "lethant\n",
      "jadequashamed\n",
      "intemplifeless\n",
      "deterrientalkatirical\n",
      "enconfidead\n",
      "strappallous\n"
     ]
    }
   ],
   "source": [
    "for i in range(24):\n",
    "    print(moods_char_model.make_sentence())"
   ]
  }
 ],
 "metadata": {
  "kernelspec": {
   "display_name": "Python 3",
   "language": "python",
   "name": "python3"
  },
  "language_info": {
   "codemirror_mode": {
    "name": "ipython",
    "version": 3
   },
   "file_extension": ".py",
   "mimetype": "text/x-python",
   "name": "python",
   "nbconvert_exporter": "python",
   "pygments_lexer": "ipython3",
   "version": "3.9.0"
  }
 },
 "nbformat": 4,
 "nbformat_minor": 2
}
